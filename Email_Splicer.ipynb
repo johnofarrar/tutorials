{
  "nbformat": 4,
  "nbformat_minor": 0,
  "metadata": {
    "colab": {
      "provenance": [],
      "authorship_tag": "ABX9TyPB138tWw2083w7r7mYMwtQ",
      "include_colab_link": true
    },
    "kernelspec": {
      "name": "python3",
      "display_name": "Python 3"
    },
    "language_info": {
      "name": "python"
    }
  },
  "cells": [
    {
      "cell_type": "markdown",
      "metadata": {
        "id": "view-in-github",
        "colab_type": "text"
      },
      "source": [
        "<a href=\"https://colab.research.google.com/github/johnofarrar/tutorials/blob/main/Email_Splicer.ipynb\" target=\"_parent\"><img src=\"https://colab.research.google.com/assets/colab-badge.svg\" alt=\"Open In Colab\"/></a>"
      ]
    },
    {
      "cell_type": "code",
      "execution_count": null,
      "metadata": {
        "colab": {
          "base_uri": "https://localhost:8080/"
        },
        "id": "7ro41W_GOIzp",
        "outputId": "ad25fc7f-9c3c-4f0a-f705-4fa942a296a1"
      },
      "outputs": [
        {
          "output_type": "stream",
          "name": "stdout",
          "text": [
            "johnofarrar\n",
            "gmail.com\n"
          ]
        }
      ],
      "source": [
        "# This is an email splicer, it pulls the user and domain name from an email\n",
        "\n",
        "# email list:\n",
        "email = \"johnofarrar@gmail.com\"\n",
        "\n",
        "# pulls index of @ symbol\n",
        "symbol_index = int(email.index(\"@\"))\n",
        "\n",
        "# pulls user\n",
        "print(email[0:symbol_index])\n",
        "# pulls domain\n",
        "print(email[symbol_index +1:-1] + email[-1])\n"
      ]
    }
  ]
}