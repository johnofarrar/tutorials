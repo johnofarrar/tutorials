{
  "nbformat": 4,
  "nbformat_minor": 0,
  "metadata": {
    "colab": {
      "provenance": [],
      "authorship_tag": "ABX9TyO3K9xHG5yj0HID9DQirrsI",
      "include_colab_link": true
    },
    "kernelspec": {
      "name": "python3",
      "display_name": "Python 3"
    },
    "language_info": {
      "name": "python"
    }
  },
  "cells": [
    {
      "cell_type": "markdown",
      "metadata": {
        "id": "view-in-github",
        "colab_type": "text"
      },
      "source": [
        "<a href=\"https://colab.research.google.com/github/johnofarrar/tutorials/blob/main/Numbers.ipynb\" target=\"_parent\"><img src=\"https://colab.research.google.com/assets/colab-badge.svg\" alt=\"Open In Colab\"/></a>"
      ]
    },
    {
      "cell_type": "code",
      "execution_count": 10,
      "metadata": {
        "colab": {
          "base_uri": "https://localhost:8080/"
        },
        "id": "SSTGyEM7XOwc",
        "outputId": "91cea8fd-1ef9-4439-a941-839b49d9e1e3"
      },
      "outputs": [
        {
          "output_type": "stream",
          "name": "stdout",
          "text": [
            "5 my favorite number\n"
          ]
        }
      ],
      "source": [
        "\n",
        "my_num = 5\n",
        "\n",
        "# str converts number to string\n",
        "print(str(my_num) + \" my favorite number\")"
      ]
    },
    {
      "cell_type": "code",
      "source": [
        "my_num = -5\n",
        "\n",
        "# absolute value\n",
        "print(abs(my_num))"
      ],
      "metadata": {
        "colab": {
          "base_uri": "https://localhost:8080/"
        },
        "id": "mb6bvTNZXao9",
        "outputId": "dbbf5b90-ed57-482e-f1f6-7f487473700b"
      },
      "execution_count": 12,
      "outputs": [
        {
          "output_type": "stream",
          "name": "stdout",
          "text": [
            "5\n"
          ]
        }
      ]
    },
    {
      "cell_type": "code",
      "source": [
        "# pow takes the first number to the power of the second number\n",
        "print(pow(3,2))\n",
        "# equal to 3^2"
      ],
      "metadata": {
        "colab": {
          "base_uri": "https://localhost:8080/"
        },
        "id": "sATkuCCgYwSY",
        "outputId": "2589672c-c3d0-488b-99b9-9bf644f89165"
      },
      "execution_count": 15,
      "outputs": [
        {
          "output_type": "stream",
          "name": "stdout",
          "text": [
            "9\n"
          ]
        }
      ]
    },
    {
      "cell_type": "code",
      "source": [
        "# max outputs the largest of a set of numbers\n",
        "print(max(5, 10))\n",
        "\n",
        "# min outputs the smallest number in a set\n",
        "print(min(5, 10))"
      ],
      "metadata": {
        "colab": {
          "base_uri": "https://localhost:8080/"
        },
        "id": "KXHSCmK-ZBMQ",
        "outputId": "6cfba8d2-4a32-4397-9ade-4cc49272a68b"
      },
      "execution_count": 19,
      "outputs": [
        {
          "output_type": "stream",
          "name": "stdout",
          "text": [
            "10\n",
            "5\n"
          ]
        }
      ]
    },
    {
      "cell_type": "code",
      "source": [
        "# round function rounds a number\n",
        "print(round(4.5))\n",
        "print(round(4.51))"
      ],
      "metadata": {
        "colab": {
          "base_uri": "https://localhost:8080/"
        },
        "id": "jkkw4BtcZU-o",
        "outputId": "ec3fe318-3c75-47fc-8d00-856f0f82bf6e"
      },
      "execution_count": 23,
      "outputs": [
        {
          "output_type": "stream",
          "name": "stdout",
          "text": [
            "4\n",
            "5\n"
          ]
        }
      ]
    },
    {
      "cell_type": "code",
      "source": [
        "# Imports a bunch of math functions\n",
        "from math import*"
      ],
      "metadata": {
        "id": "vQTu8nfvZ7jw"
      },
      "execution_count": 24,
      "outputs": []
    },
    {
      "cell_type": "code",
      "source": [
        "# floor returns closest integer less than or equal to X\n",
        "print(floor(3.7))\n",
        "print(floor(3))"
      ],
      "metadata": {
        "colab": {
          "base_uri": "https://localhost:8080/"
        },
        "id": "DUrm6-2TaU-8",
        "outputId": "80555bd0-5daa-4cd7-bf81-384d5c729bbf"
      },
      "execution_count": 27,
      "outputs": [
        {
          "output_type": "stream",
          "name": "stdout",
          "text": [
            "3\n",
            "3\n"
          ]
        }
      ]
    },
    {
      "cell_type": "code",
      "source": [
        "# ceil returns the smallest integer more than or equal to X\n",
        "print(ceil(3.7))\n",
        "print(ceil(3))"
      ],
      "metadata": {
        "colab": {
          "base_uri": "https://localhost:8080/"
        },
        "id": "dXFCZdFKalyo",
        "outputId": "9c878b03-f72e-47b0-ee2c-7ad1237914a3"
      },
      "execution_count": 28,
      "outputs": [
        {
          "output_type": "stream",
          "name": "stdout",
          "text": [
            "4\n",
            "3\n"
          ]
        }
      ]
    },
    {
      "cell_type": "code",
      "source": [
        "# sqrt returns the square root of a number\n",
        "print(sqrt(16))"
      ],
      "metadata": {
        "colab": {
          "base_uri": "https://localhost:8080/"
        },
        "id": "KUEwCKIYbBVA",
        "outputId": "0de8886d-8dd8-4848-d2e7-60cd6e85c87b"
      },
      "execution_count": 29,
      "outputs": [
        {
          "output_type": "stream",
          "name": "stdout",
          "text": [
            "4.0\n"
          ]
        }
      ]
    },
    {
      "cell_type": "code",
      "source": [],
      "metadata": {
        "id": "SnRR_Zj_bNVn"
      },
      "execution_count": null,
      "outputs": []
    }
  ]
}